{
 "cells": [
  {
   "cell_type": "code",
   "execution_count": null,
   "metadata": {},
   "outputs": [],
   "source": [
    "from bs4 import BeautifulSoup\n",
    "from selenium import webdriver\n",
    "from time import sleep\n",
    "import urllib.request as req"
   ]
  },
  {
   "cell_type": "code",
   "execution_count": 23,
   "metadata": {},
   "outputs": [],
   "source": [
    "driver = webdriver.Chrome('C:/chromedriver.exe') \n",
    "sleep(3)"
   ]
  },
  {
   "cell_type": "code",
   "execution_count": 24,
   "metadata": {},
   "outputs": [],
   "source": [
    "url = \"https://finance.naver.com/marketindex/\"\n",
    "driver.get(url)\n",
    "html = driver.page_source\n",
    "soup = BeautifulSoup(html, 'html.parser')"
   ]
  },
  {
   "cell_type": "code",
   "execution_count": 25,
   "metadata": {},
   "outputs": [
    {
     "name": "stdout",
     "output_type": "stream",
     "text": [
      "미국 USD\n"
     ]
    }
   ],
   "source": [
    "usd_n = soup.select_one(\"#exchangeList > li.on > a.head.usd > h3\")\n",
    "print(usd_n.text)"
   ]
  },
  {
   "cell_type": "code",
   "execution_count": 26,
   "metadata": {
    "scrolled": true
   },
   "outputs": [],
   "source": [
    "driver.find_element_by_xpath('//*[@id=\"exchangeList\"]/li[1]').click()"
   ]
  },
  {
   "cell_type": "code",
   "execution_count": 27,
   "metadata": {},
   "outputs": [],
   "source": [
    "usd_d = driver.switch_to.frame('exchangeDailyQuote') #미국 일별시세로 이동"
   ]
  },
  {
   "cell_type": "code",
   "execution_count": 7,
   "metadata": {},
   "outputs": [
    {
     "ename": "SyntaxError",
     "evalue": "invalid syntax (<ipython-input-7-f421ccf0a86c>, line 2)",
     "output_type": "error",
     "traceback": [
      "\u001b[1;36m  File \u001b[1;32m\"<ipython-input-7-f421ccf0a86c>\"\u001b[1;36m, line \u001b[1;32m2\u001b[0m\n\u001b[1;33m    num_page =\u001b[0m\n\u001b[1;37m               ^\u001b[0m\n\u001b[1;31mSyntaxError\u001b[0m\u001b[1;31m:\u001b[0m invalid syntax\n"
     ]
    }
   ],
   "source": [
    "while 1:\n",
    "    num_page = \n",
    "for link in driver.find_elements_by_tag('a'):\n",
    "    print(link.get('href'))"
   ]
  },
  {
   "cell_type": "code",
   "execution_count": 9,
   "metadata": {
    "scrolled": true
   },
   "outputs": [
    {
     "name": "stdout",
     "output_type": "stream",
     "text": [
      "총 11 개의 페이지가 확인 됬습니다.\n"
     ]
    }
   ],
   "source": [
    "maximum = 0\n",
    "page = 1\n",
    "while 1:\n",
    "    page_list = driver.find_elements_by_css_selector('body > div.section_exchange > div.paging > a:nth-child(' + str(page) + ')')\n",
    "    if not page_list:\n",
    "        maximum = page - 1\n",
    "        break\n",
    "    page = page + 1\n",
    "print(\"총 \" + str(maximum) + \" 개의 페이지가 확인 됬습니다.\")"
   ]
  },
  {
   "cell_type": "code",
   "execution_count": 21,
   "metadata": {},
   "outputs": [
    {
     "name": "stdout",
     "output_type": "stream",
     "text": [
      "[<selenium.webdriver.remote.webelement.WebElement (session=\"537c3fd57b85725ba842a6c05570d9c8\", element=\"ee1a7ffa-05cf-4a3a-8da9-4b0cfbad7871\")>, <selenium.webdriver.remote.webelement.WebElement (session=\"537c3fd57b85725ba842a6c05570d9c8\", element=\"e01aedb7-bf1c-4233-96a6-5cbf82648d83\")>, <selenium.webdriver.remote.webelement.WebElement (session=\"537c3fd57b85725ba842a6c05570d9c8\", element=\"edc39486-a666-49ae-878f-ba52589d127a\")>, <selenium.webdriver.remote.webelement.WebElement (session=\"537c3fd57b85725ba842a6c05570d9c8\", element=\"ab16b5d8-c903-41bc-957a-56c3166d3173\")>, <selenium.webdriver.remote.webelement.WebElement (session=\"537c3fd57b85725ba842a6c05570d9c8\", element=\"d6a53028-6066-4420-bea8-3279b5af4fbb\")>, <selenium.webdriver.remote.webelement.WebElement (session=\"537c3fd57b85725ba842a6c05570d9c8\", element=\"b7181097-e8ef-4a3e-850e-c75292dfceea\")>, <selenium.webdriver.remote.webelement.WebElement (session=\"537c3fd57b85725ba842a6c05570d9c8\", element=\"765bce21-2ce6-42a8-bd93-ab40473bcfed\")>, <selenium.webdriver.remote.webelement.WebElement (session=\"537c3fd57b85725ba842a6c05570d9c8\", element=\"7204a613-6227-4b6d-b06e-1cdda1fa72a2\")>, <selenium.webdriver.remote.webelement.WebElement (session=\"537c3fd57b85725ba842a6c05570d9c8\", element=\"4a042f40-43b6-406b-a4ef-626c700a986b\")>, <selenium.webdriver.remote.webelement.WebElement (session=\"537c3fd57b85725ba842a6c05570d9c8\", element=\"936964ba-2a9a-4f11-a08a-9595380e95f4\")>]\n",
      "2019.11.22\n",
      "2019.11.21\n"
     ]
    },
    {
     "ename": "StaleElementReferenceException",
     "evalue": "Message: stale element reference: element is not attached to the page document\n  (Session info: chrome=78.0.3904.108)\n",
     "output_type": "error",
     "traceback": [
      "\u001b[1;31m---------------------------------------------------------------------------\u001b[0m",
      "\u001b[1;31mStaleElementReferenceException\u001b[0m            Traceback (most recent call last)",
      "\u001b[1;32m<ipython-input-21-e7e8a46e01f7>\u001b[0m in \u001b[0;36m<module>\u001b[1;34m\u001b[0m\n\u001b[0;32m      5\u001b[0m     \u001b[0mprint\u001b[0m\u001b[1;33m(\u001b[0m\u001b[0musd_date\u001b[0m\u001b[1;33m)\u001b[0m\u001b[1;33m\u001b[0m\u001b[1;33m\u001b[0m\u001b[0m\n\u001b[0;32m      6\u001b[0m     \u001b[1;32mfor\u001b[0m \u001b[0musd_dates\u001b[0m \u001b[1;32min\u001b[0m \u001b[0musd_date\u001b[0m\u001b[1;33m:\u001b[0m\u001b[1;33m\u001b[0m\u001b[1;33m\u001b[0m\u001b[0m\n\u001b[1;32m----> 7\u001b[1;33m         \u001b[0mprint\u001b[0m\u001b[1;33m(\u001b[0m\u001b[0musd_dates\u001b[0m\u001b[1;33m.\u001b[0m\u001b[0mtext\u001b[0m\u001b[1;33m)\u001b[0m\u001b[1;31m#->이 코드가 맞는 코드 / 안 돌아감\u001b[0m\u001b[1;33m\u001b[0m\u001b[1;33m\u001b[0m\u001b[0m\n\u001b[0m",
      "\u001b[1;32mC:\\ProgramData\\Anaconda3\\lib\\site-packages\\selenium\\webdriver\\remote\\webelement.py\u001b[0m in \u001b[0;36mtext\u001b[1;34m(self)\u001b[0m\n\u001b[0;32m     74\u001b[0m     \u001b[1;32mdef\u001b[0m \u001b[0mtext\u001b[0m\u001b[1;33m(\u001b[0m\u001b[0mself\u001b[0m\u001b[1;33m)\u001b[0m\u001b[1;33m:\u001b[0m\u001b[1;33m\u001b[0m\u001b[1;33m\u001b[0m\u001b[0m\n\u001b[0;32m     75\u001b[0m         \u001b[1;34m\"\"\"The text of the element.\"\"\"\u001b[0m\u001b[1;33m\u001b[0m\u001b[1;33m\u001b[0m\u001b[0m\n\u001b[1;32m---> 76\u001b[1;33m         \u001b[1;32mreturn\u001b[0m \u001b[0mself\u001b[0m\u001b[1;33m.\u001b[0m\u001b[0m_execute\u001b[0m\u001b[1;33m(\u001b[0m\u001b[0mCommand\u001b[0m\u001b[1;33m.\u001b[0m\u001b[0mGET_ELEMENT_TEXT\u001b[0m\u001b[1;33m)\u001b[0m\u001b[1;33m[\u001b[0m\u001b[1;34m'value'\u001b[0m\u001b[1;33m]\u001b[0m\u001b[1;33m\u001b[0m\u001b[1;33m\u001b[0m\u001b[0m\n\u001b[0m\u001b[0;32m     77\u001b[0m \u001b[1;33m\u001b[0m\u001b[0m\n\u001b[0;32m     78\u001b[0m     \u001b[1;32mdef\u001b[0m \u001b[0mclick\u001b[0m\u001b[1;33m(\u001b[0m\u001b[0mself\u001b[0m\u001b[1;33m)\u001b[0m\u001b[1;33m:\u001b[0m\u001b[1;33m\u001b[0m\u001b[1;33m\u001b[0m\u001b[0m\n",
      "\u001b[1;32mC:\\ProgramData\\Anaconda3\\lib\\site-packages\\selenium\\webdriver\\remote\\webelement.py\u001b[0m in \u001b[0;36m_execute\u001b[1;34m(self, command, params)\u001b[0m\n\u001b[0;32m    631\u001b[0m             \u001b[0mparams\u001b[0m \u001b[1;33m=\u001b[0m \u001b[1;33m{\u001b[0m\u001b[1;33m}\u001b[0m\u001b[1;33m\u001b[0m\u001b[1;33m\u001b[0m\u001b[0m\n\u001b[0;32m    632\u001b[0m         \u001b[0mparams\u001b[0m\u001b[1;33m[\u001b[0m\u001b[1;34m'id'\u001b[0m\u001b[1;33m]\u001b[0m \u001b[1;33m=\u001b[0m \u001b[0mself\u001b[0m\u001b[1;33m.\u001b[0m\u001b[0m_id\u001b[0m\u001b[1;33m\u001b[0m\u001b[1;33m\u001b[0m\u001b[0m\n\u001b[1;32m--> 633\u001b[1;33m         \u001b[1;32mreturn\u001b[0m \u001b[0mself\u001b[0m\u001b[1;33m.\u001b[0m\u001b[0m_parent\u001b[0m\u001b[1;33m.\u001b[0m\u001b[0mexecute\u001b[0m\u001b[1;33m(\u001b[0m\u001b[0mcommand\u001b[0m\u001b[1;33m,\u001b[0m \u001b[0mparams\u001b[0m\u001b[1;33m)\u001b[0m\u001b[1;33m\u001b[0m\u001b[1;33m\u001b[0m\u001b[0m\n\u001b[0m\u001b[0;32m    634\u001b[0m \u001b[1;33m\u001b[0m\u001b[0m\n\u001b[0;32m    635\u001b[0m     \u001b[1;32mdef\u001b[0m \u001b[0mfind_element\u001b[0m\u001b[1;33m(\u001b[0m\u001b[0mself\u001b[0m\u001b[1;33m,\u001b[0m \u001b[0mby\u001b[0m\u001b[1;33m=\u001b[0m\u001b[0mBy\u001b[0m\u001b[1;33m.\u001b[0m\u001b[0mID\u001b[0m\u001b[1;33m,\u001b[0m \u001b[0mvalue\u001b[0m\u001b[1;33m=\u001b[0m\u001b[1;32mNone\u001b[0m\u001b[1;33m)\u001b[0m\u001b[1;33m:\u001b[0m\u001b[1;33m\u001b[0m\u001b[1;33m\u001b[0m\u001b[0m\n",
      "\u001b[1;32mC:\\ProgramData\\Anaconda3\\lib\\site-packages\\selenium\\webdriver\\remote\\webdriver.py\u001b[0m in \u001b[0;36mexecute\u001b[1;34m(self, driver_command, params)\u001b[0m\n\u001b[0;32m    319\u001b[0m         \u001b[0mresponse\u001b[0m \u001b[1;33m=\u001b[0m \u001b[0mself\u001b[0m\u001b[1;33m.\u001b[0m\u001b[0mcommand_executor\u001b[0m\u001b[1;33m.\u001b[0m\u001b[0mexecute\u001b[0m\u001b[1;33m(\u001b[0m\u001b[0mdriver_command\u001b[0m\u001b[1;33m,\u001b[0m \u001b[0mparams\u001b[0m\u001b[1;33m)\u001b[0m\u001b[1;33m\u001b[0m\u001b[1;33m\u001b[0m\u001b[0m\n\u001b[0;32m    320\u001b[0m         \u001b[1;32mif\u001b[0m \u001b[0mresponse\u001b[0m\u001b[1;33m:\u001b[0m\u001b[1;33m\u001b[0m\u001b[1;33m\u001b[0m\u001b[0m\n\u001b[1;32m--> 321\u001b[1;33m             \u001b[0mself\u001b[0m\u001b[1;33m.\u001b[0m\u001b[0merror_handler\u001b[0m\u001b[1;33m.\u001b[0m\u001b[0mcheck_response\u001b[0m\u001b[1;33m(\u001b[0m\u001b[0mresponse\u001b[0m\u001b[1;33m)\u001b[0m\u001b[1;33m\u001b[0m\u001b[1;33m\u001b[0m\u001b[0m\n\u001b[0m\u001b[0;32m    322\u001b[0m             response['value'] = self._unwrap_value(\n\u001b[0;32m    323\u001b[0m                 response.get('value', None))\n",
      "\u001b[1;32mC:\\ProgramData\\Anaconda3\\lib\\site-packages\\selenium\\webdriver\\remote\\errorhandler.py\u001b[0m in \u001b[0;36mcheck_response\u001b[1;34m(self, response)\u001b[0m\n\u001b[0;32m    240\u001b[0m                 \u001b[0malert_text\u001b[0m \u001b[1;33m=\u001b[0m \u001b[0mvalue\u001b[0m\u001b[1;33m[\u001b[0m\u001b[1;34m'alert'\u001b[0m\u001b[1;33m]\u001b[0m\u001b[1;33m.\u001b[0m\u001b[0mget\u001b[0m\u001b[1;33m(\u001b[0m\u001b[1;34m'text'\u001b[0m\u001b[1;33m)\u001b[0m\u001b[1;33m\u001b[0m\u001b[1;33m\u001b[0m\u001b[0m\n\u001b[0;32m    241\u001b[0m             \u001b[1;32mraise\u001b[0m \u001b[0mexception_class\u001b[0m\u001b[1;33m(\u001b[0m\u001b[0mmessage\u001b[0m\u001b[1;33m,\u001b[0m \u001b[0mscreen\u001b[0m\u001b[1;33m,\u001b[0m \u001b[0mstacktrace\u001b[0m\u001b[1;33m,\u001b[0m \u001b[0malert_text\u001b[0m\u001b[1;33m)\u001b[0m\u001b[1;33m\u001b[0m\u001b[1;33m\u001b[0m\u001b[0m\n\u001b[1;32m--> 242\u001b[1;33m         \u001b[1;32mraise\u001b[0m \u001b[0mexception_class\u001b[0m\u001b[1;33m(\u001b[0m\u001b[0mmessage\u001b[0m\u001b[1;33m,\u001b[0m \u001b[0mscreen\u001b[0m\u001b[1;33m,\u001b[0m \u001b[0mstacktrace\u001b[0m\u001b[1;33m)\u001b[0m\u001b[1;33m\u001b[0m\u001b[1;33m\u001b[0m\u001b[0m\n\u001b[0m\u001b[0;32m    243\u001b[0m \u001b[1;33m\u001b[0m\u001b[0m\n\u001b[0;32m    244\u001b[0m     \u001b[1;32mdef\u001b[0m \u001b[0m_value_or_default\u001b[0m\u001b[1;33m(\u001b[0m\u001b[0mself\u001b[0m\u001b[1;33m,\u001b[0m \u001b[0mobj\u001b[0m\u001b[1;33m,\u001b[0m \u001b[0mkey\u001b[0m\u001b[1;33m,\u001b[0m \u001b[0mdefault\u001b[0m\u001b[1;33m)\u001b[0m\u001b[1;33m:\u001b[0m\u001b[1;33m\u001b[0m\u001b[1;33m\u001b[0m\u001b[0m\n",
      "\u001b[1;31mStaleElementReferenceException\u001b[0m: Message: stale element reference: element is not attached to the page document\n  (Session info: chrome=78.0.3904.108)\n"
     ]
    }
   ],
   "source": [
    "for i in range(1,3): #388로 바꿔줄 것\n",
    "    driver.find_element_by_xpath('/html/body/div/div/a['+str(i)+']').click()\n",
    "    driver.implicitly_wait(10)\n",
    "    usd_date = driver.find_elements_by_tag_name('body > div > table > tbody > tr > td.date')\n",
    "    print(usd_date)\n",
    "    for usd_dates in usd_date:\n",
    "        print(usd_dates.text)#->이 코드가 맞는 코드 / 안 돌아감"
   ]
  },
  {
   "cell_type": "code",
   "execution_count": 28,
   "metadata": {},
   "outputs": [
    {
     "name": "stdout",
     "output_type": "stream",
     "text": [
      "[<selenium.webdriver.remote.webelement.WebElement (session=\"c5320916133af1b40e76fafa1203445f\", element=\"064fb812-0a10-47f6-8b58-951706ca859e\")>, <selenium.webdriver.remote.webelement.WebElement (session=\"c5320916133af1b40e76fafa1203445f\", element=\"45971c5d-3658-495e-8391-d4c194250a71\")>, <selenium.webdriver.remote.webelement.WebElement (session=\"c5320916133af1b40e76fafa1203445f\", element=\"2bd51003-28ac-4b1f-a59b-10703573892d\")>, <selenium.webdriver.remote.webelement.WebElement (session=\"c5320916133af1b40e76fafa1203445f\", element=\"54324df0-a344-467b-a8b8-c5f3f5090e67\")>, <selenium.webdriver.remote.webelement.WebElement (session=\"c5320916133af1b40e76fafa1203445f\", element=\"bd74cd13-4c89-468a-9adb-256e3c4d3045\")>, <selenium.webdriver.remote.webelement.WebElement (session=\"c5320916133af1b40e76fafa1203445f\", element=\"46c4937e-c611-46af-802c-8c4015633192\")>, <selenium.webdriver.remote.webelement.WebElement (session=\"c5320916133af1b40e76fafa1203445f\", element=\"f42af818-277b-43a5-8926-2e2ca6961eaf\")>, <selenium.webdriver.remote.webelement.WebElement (session=\"c5320916133af1b40e76fafa1203445f\", element=\"94d94309-79b5-493b-ba7c-5022a1141876\")>, <selenium.webdriver.remote.webelement.WebElement (session=\"c5320916133af1b40e76fafa1203445f\", element=\"89060a24-34d0-4358-8ea0-4d8c6d49214d\")>, <selenium.webdriver.remote.webelement.WebElement (session=\"c5320916133af1b40e76fafa1203445f\", element=\"43d87481-432e-40b8-a99f-bf2e5552b1b4\")>]\n",
      "2019.11.22\n",
      "2019.11.21\n",
      "2019.11.20\n",
      "2019.11.19\n",
      "2019.11.18\n",
      "2019.11.15\n",
      "2019.11.14\n",
      "2019.11.13\n",
      "2019.11.12\n",
      "2019.11.11\n",
      "[<selenium.webdriver.remote.webelement.WebElement (session=\"c5320916133af1b40e76fafa1203445f\", element=\"9aad5eac-c631-4ad7-9e21-4f1867d47ffe\")>, <selenium.webdriver.remote.webelement.WebElement (session=\"c5320916133af1b40e76fafa1203445f\", element=\"bfb37aaa-f026-41fc-b478-8c09911c6de1\")>, <selenium.webdriver.remote.webelement.WebElement (session=\"c5320916133af1b40e76fafa1203445f\", element=\"acd015d7-3eda-41b6-9b7d-99e5a8d35874\")>, <selenium.webdriver.remote.webelement.WebElement (session=\"c5320916133af1b40e76fafa1203445f\", element=\"6928d2fa-0e1d-47ed-9c56-3be6c0dd2369\")>, <selenium.webdriver.remote.webelement.WebElement (session=\"c5320916133af1b40e76fafa1203445f\", element=\"7f769546-a6f9-432a-a9f5-da926a20edc0\")>, <selenium.webdriver.remote.webelement.WebElement (session=\"c5320916133af1b40e76fafa1203445f\", element=\"aebfebbe-91f0-4fe2-90c2-9a474968db36\")>, <selenium.webdriver.remote.webelement.WebElement (session=\"c5320916133af1b40e76fafa1203445f\", element=\"527da543-9d20-4ece-a8d1-63647551d6e5\")>, <selenium.webdriver.remote.webelement.WebElement (session=\"c5320916133af1b40e76fafa1203445f\", element=\"b79ec1ed-6f06-4570-853f-2900cb1d9fd0\")>, <selenium.webdriver.remote.webelement.WebElement (session=\"c5320916133af1b40e76fafa1203445f\", element=\"e63a21d3-e605-495d-a7b9-64c761671708\")>, <selenium.webdriver.remote.webelement.WebElement (session=\"c5320916133af1b40e76fafa1203445f\", element=\"2913ddbd-a45e-49f8-8854-519c12400884\")>]\n",
      "2019.11.08\n",
      "2019.11.07\n",
      "2019.11.06\n",
      "2019.11.05\n",
      "2019.11.04\n",
      "2019.11.01\n",
      "2019.10.31\n",
      "2019.10.30\n",
      "2019.10.29\n",
      "2019.10.28\n"
     ]
    }
   ],
   "source": [
    "for i in range(1,3):\n",
    "    url = 'http://finance.naver.com/marketindex/exchangeDailyQuote.nhn?marketindexCd=FX_USDKRW'\n",
    "    driver.get(url)\n",
    "    html = driver.page_source\n",
    "    soup = BeautifulSoup(html, \"html.parser\")\n",
    "    driver.find_element_by_xpath('/html/body/div/div/a['+str(i)+']').click()\n",
    "    driver.implicitly_wait(10)\n",
    "    usd_date = driver.find_elements_by_tag_name('body > div > table > tbody > tr > td.date')\n",
    "    print(usd_date)\n",
    "    for usd_dates in usd_date:\n",
    "        print(usd_dates.text)\n",
    "    \n",
    "    "
   ]
  },
  {
   "cell_type": "code",
   "execution_count": 16,
   "metadata": {},
   "outputs": [
    {
     "name": "stdout",
     "output_type": "stream",
     "text": [
      "[<selenium.webdriver.remote.webelement.WebElement (session=\"45a87419eb35359d1ce0b81302e614d9\", element=\"00e6f199-594a-484a-8768-7480af0c80f8\")>, <selenium.webdriver.remote.webelement.WebElement (session=\"45a87419eb35359d1ce0b81302e614d9\", element=\"de261c0e-0ca6-4ea0-a8c8-fa38b615f1b5\")>, <selenium.webdriver.remote.webelement.WebElement (session=\"45a87419eb35359d1ce0b81302e614d9\", element=\"91eac861-90a8-4101-bf85-4c996fe76057\")>, <selenium.webdriver.remote.webelement.WebElement (session=\"45a87419eb35359d1ce0b81302e614d9\", element=\"efb68eaf-ec89-4f2a-93a4-4c0536fa746e\")>, <selenium.webdriver.remote.webelement.WebElement (session=\"45a87419eb35359d1ce0b81302e614d9\", element=\"3ed40f47-a878-4a77-8782-84c8e5037af7\")>, <selenium.webdriver.remote.webelement.WebElement (session=\"45a87419eb35359d1ce0b81302e614d9\", element=\"72da68c6-59b9-49d1-8b13-7357a5bb8d8e\")>, <selenium.webdriver.remote.webelement.WebElement (session=\"45a87419eb35359d1ce0b81302e614d9\", element=\"b311f6e7-8bbf-4ab6-a180-9ae69dbba384\")>, <selenium.webdriver.remote.webelement.WebElement (session=\"45a87419eb35359d1ce0b81302e614d9\", element=\"6fca9f14-c455-40da-8ce0-b7b6cb19aa09\")>, <selenium.webdriver.remote.webelement.WebElement (session=\"45a87419eb35359d1ce0b81302e614d9\", element=\"d7f94627-ba71-466a-bd1e-ae8fd5b82005\")>, <selenium.webdriver.remote.webelement.WebElement (session=\"45a87419eb35359d1ce0b81302e614d9\", element=\"ce416e2c-ee7f-4ee9-b84a-9ddcc5038151\")>]\n",
      "2019.11.04\n",
      "2019.11.01\n",
      "2019.10.31\n",
      "2019.10.30\n",
      "2019.10.29\n",
      "2019.10.28\n",
      "2019.10.25\n",
      "2019.10.24\n",
      "2019.10.23\n",
      "2019.10.22\n"
     ]
    }
   ],
   "source": [
    "usd_date = driver.find_elements_by_tag_name('body > div > table > tbody > tr > td.date')\n",
    "print(usd_date)\n",
    "for usd_dates in usd_date:\n",
    "    print(usd_dates.text) #이런식으로 나온다는 예시코드"
   ]
  },
  {
   "cell_type": "code",
   "execution_count": 19,
   "metadata": {},
   "outputs": [
    {
     "name": "stdout",
     "output_type": "stream",
     "text": [
      "2019.11.18\n",
      "2019.11.15\n",
      "2019.11.14\n",
      "2019.11.13\n",
      "2019.11.12\n",
      "2019.11.11\n",
      "2019.11.08\n",
      "2019.11.07\n",
      "2019.11.06\n",
      "2019.11.05\n",
      "2019.11.04\n",
      "2019.11.01\n",
      "2019.10.31\n",
      "2019.10.30\n",
      "2019.10.29\n",
      "2019.10.28\n",
      "2019.10.25\n",
      "2019.10.24\n",
      "2019.10.23\n",
      "2019.10.22\n",
      "2019.10.21\n",
      "2019.10.18\n",
      "2019.10.17\n",
      "2019.10.16\n",
      "2019.10.15\n",
      "2019.10.14\n",
      "2019.10.11\n",
      "2019.10.10\n",
      "2019.10.08\n",
      "2019.10.07\n",
      "2019.10.04\n",
      "2019.10.02\n",
      "2019.10.01\n",
      "2019.09.30\n",
      "2019.09.27\n",
      "2019.09.26\n",
      "2019.09.25\n",
      "2019.09.24\n",
      "2019.09.23\n",
      "2019.09.20\n"
     ]
    }
   ],
   "source": [
    "usd_url = 'https://finance.naver.com/marketindex/exchangeDailyQuote.nhn?marketindexCd=FX_USDKRW&page={}'\n",
    "for i in range(1, 5): #388로 바꿀 것\n",
    "    usd = usd_url.format(i)\n",
    "    driver.get(usd)\n",
    "    driver.implicitly_wait(2)\n",
    "    usd_date = driver.find_elements_by_tag_name('body > div > table > tbody > tr > td.date')\n",
    "    #print(usd_date)\n",
    "    for usd_dates in usd_date:\n",
    "        print(usd_dates.text) #-> 돌아가는 코드긴 하지만 여기서 원하는 코드는 아님"
   ]
  },
  {
   "cell_type": "code",
   "execution_count": 36,
   "metadata": {},
   "outputs": [],
   "source": [
    "driver.switch_to.default_content() #미국 상세페이지로 이동"
   ]
  },
  {
   "cell_type": "code",
   "execution_count": null,
   "metadata": {},
   "outputs": [],
   "source": [
    "URL = finance.naver.com/marketindex/exchangeDailyQuote.nhn?marketindexCd=FX_\n",
    "keys = [USDKRW, JPYJRW]\n",
    "\n",
    "for key in keys: \n",
    "    tempUrl = URL + key\n",
    "    i = 0\n",
    "    while(true):\n",
    "        #\n",
    "        tempUrl + \"&page=\" + str(i)\n",
    "        #list\n",
    "        #list.length == 0\n",
    "        break;\n",
    "        "
   ]
  }
 ],
 "metadata": {
  "kernelspec": {
   "display_name": "Python 3",
   "language": "python",
   "name": "python3"
  },
  "language_info": {
   "codemirror_mode": {
    "name": "ipython",
    "version": 3
   },
   "file_extension": ".py",
   "mimetype": "text/x-python",
   "name": "python",
   "nbconvert_exporter": "python",
   "pygments_lexer": "ipython3",
   "version": "3.7.4"
  }
 },
 "nbformat": 4,
 "nbformat_minor": 2
}
