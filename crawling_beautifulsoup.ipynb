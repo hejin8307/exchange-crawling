{
 "cells": [
  {
   "cell_type": "code",
   "execution_count": 1,
   "metadata": {},
   "outputs": [],
   "source": [
    "from bs4 import BeautifulSoup\n",
    "from time import sleep\n",
    "import requests\n",
    "import pandas as pd\n",
    "import csv\n",
    "import datetime"
   ]
  },
  {
   "cell_type": "code",
   "execution_count": 2,
   "metadata": {},
   "outputs": [],
   "source": [
    "def extract_text(arr):\n",
    "    word = ''\n",
    "    for i in arr:\n",
    "        word = word + i.text\n",
    "    return word"
   ]
  },
  {
   "cell_type": "code",
   "execution_count": 3,
   "metadata": {},
   "outputs": [],
   "source": [
    "def toCSV(usd_whole_list):\n",
    "    dt = datetime.datetime.now()\n",
    "    file = open('test '+dt.strftime('%Y_%m_%d')+'.csv', 'w', encoding='cp949', newline='') #usd.csv로 바꿀것\n",
    "    csvfile = csv.writer(file)\n",
    "    csvfile.writerow(['country', 'date', 'exchange', 'buying', 'selling', 'sending', 'getting'])\n",
    "    for row in usd_whole_list:\n",
    "        csvfile.writerow(row)\n",
    "    file.close()"
   ]
  },
  {
   "cell_type": "code",
   "execution_count": 4,
   "metadata": {},
   "outputs": [],
   "source": [
    "def toCSV_a(usd_whole_list):\n",
    "    dt = datetime.datetime.now()\n",
    "    with open('usd '+dt.strftime('%Y_%m_%d')+'.csv', 'w', encoding='cp949', newline='') as file:\n",
    "        csvfile = csv.writer(file)\n",
    "        csvfile.writerow(['country', 'date', 'exchange', 'buying', 'selling', 'sending', 'getting'])\n",
    "        csvfile.writerow(usd_whole_list)\n",
    "    file.close()"
   ]
  },
  {
   "cell_type": "code",
   "execution_count": 5,
   "metadata": {},
   "outputs": [],
   "source": [
    "def country():\n",
    "    country_name_list = []\n",
    "    for key in keys:\n",
    "        country_url = 'https://finance.naver.com/marketindex/exchangeDetail.nhn?marketindexCd=FX_'\n",
    "        tempUrl = country_url + key\n",
    "        req = requests.get(tempUrl)\n",
    "        soup = BeautifulSoup(req.text, \"html.parser\")\n",
    "        country_names = soup.select('#container > div.h_company > h2 ')\n",
    "        for country_name in country_names:\n",
    "#             print(country_name.text)\n",
    "            country_name = country_name.text\n",
    "            country_name_list.append(country_name)\n",
    "            return country_name_list"
   ]
  },
  {
   "cell_type": "code",
   "execution_count": 6,
   "metadata": {},
   "outputs": [],
   "source": [
    "URL = 'http://finance.naver.com/marketindex/exchangeDailyQuote.nhn?marketindexCd=FX_'\n",
    "keys = ['USDKRW', 'JPYKRW', 'EURKRW', 'CNYKRW']"
   ]
  },
  {
   "cell_type": "code",
   "execution_count": 14,
   "metadata": {
    "scrolled": true
   },
   "outputs": [],
   "source": [
    "def url(key): #여기서는 필요없음\n",
    "    URL = 'http://finance.naver.com/marketindex/exchangeDailyQuote.nhn?marketindexCd=FX_'\n",
    "    keys = ['USD', 'JPY', 'EUR', 'CNY']\n",
    "    krw = 'KRW'\n",
    "    for i in range(0,4):\n",
    "        url = URL + keys[i] + krw\n",
    "        return url"
   ]
  },
  {
   "cell_type": "code",
   "execution_count": 29,
   "metadata": {},
   "outputs": [],
   "source": [
    "def usd(soup, country_name):\n",
    "#     url = URL + keys[0]\n",
    "#     for i in range(1, 5):\n",
    "#         usd_url = url + '&page=' + str(i)\n",
    "#         req = requests.get(usd_url)\n",
    "#         soup = BeautifulSoup(req.text, \"html.parser\")\n",
    "#         sleep(1)\n",
    "    country()\n",
    "    usd_list = []\n",
    "    tr_list = soup.select('body > div > table > tbody > tr')\n",
    "    for tr in tr_list:\n",
    "        usd_date = tr.find('td', {'class' : 'date'}).text\n",
    "        usd_exchange = tr.find('td', {'class' : 'num'}).text\n",
    "        for usd_buy_cash in tr.select('td:nth-child(4)'):\n",
    "            usd_buy_cash.text\n",
    "        for usd_sell_cash in tr.select('td:nth-child(5)'):\n",
    "            usd_sell_cash.text\n",
    "        for usd_send_money in tr.select('td:nth-child(6)'):\n",
    "            usd_send_money.text\n",
    "        for usd_get_money in tr.select('td:nth-child(7)'):\n",
    "            usd_get_money.text\n",
    "        usd_list.append([country_name, usd_date, usd_exchange, usd_buy_cash.text, usd_sell_cash.text, usd_send_money.text, usd_get_money.text])\n",
    "        \n",
    "    return usd_list\n",
    "        \n"
   ]
  },
  {
   "cell_type": "code",
   "execution_count": 48,
   "metadata": {},
   "outputs": [
    {
     "name": "stdout",
     "output_type": "stream",
     "text": [
      "[' 미국', '2019.11.20', '1,170.50', '1,190.98', '1,150.02', '1,181.90', '1,159.10']\n"
     ]
    }
   ],
   "source": [
    "def usd_get_one_data(soup, country_name):\n",
    "    \n",
    "    usd_new_list = []\n",
    "    tr_list = soup.select('body > div > table > tbody > tr')\n",
    "    for tr in tr_list:\n",
    "        usd_date = tr.find('td', {'class' : 'date'}).text\n",
    "        usd_exchange = tr.find('td', {'class' : 'num'}).text\n",
    "        for usd_buy_cash in tr.select('td:nth-child(4)'):\n",
    "            usd_buy_cash.text\n",
    "        for usd_sell_cash in tr.select('td:nth-child(5)'):\n",
    "            usd_sell_cash.text\n",
    "        for usd_send_money in tr.select('td:nth-child(6)'):\n",
    "            usd_send_money.text\n",
    "        for usd_get_money in tr.select('td:nth-child(7)'):\n",
    "            usd_get_money.text\n",
    "        usd_new_list.append([country_name, usd_date, usd_exchange, usd_buy_cash.text, usd_sell_cash.text, usd_send_money.text, usd_get_money.text])\n",
    "        \n",
    "    return usd_new_list[0]\n",
    "\n",
    "\n",
    "usd_new_data = []\n",
    "usd_url = URL + keys[0] + '&page=1'\n",
    "req = requests.get(usd_url)\n",
    "soup = BeautifulSoup(req.text, \"html.parser\")\n",
    "sleep(1)\n",
    "usd_new_data = usd_get_one_data(soup, country_name[0])\n",
    "print(usd_new_data)\n",
    "\n",
    "toCSV_a(usd_new_data)"
   ]
  },
  {
   "cell_type": "code",
   "execution_count": 30,
   "metadata": {},
   "outputs": [
    {
     "name": "stdout",
     "output_type": "stream",
     "text": [
      "[' 미국', '2019.11.22', '1,178.00', '1,198.61', '1,157.39', '1,189.50', '1,166.50']\n",
      "[' 미국', '2019.11.21', '1,175.50', '1,196.07', '1,154.93', '1,187.00', '1,164.00']\n",
      "[' 미국', '2019.11.20', '1,170.50', '1,190.98', '1,150.02', '1,181.90', '1,159.10']\n",
      "[' 미국', '2019.11.19', '1,166.50', '1,186.91', '1,146.09', '1,177.90', '1,155.10']\n",
      "[' 미국', '2019.11.18', '1,165.50', '1,185.89', '1,145.11', '1,176.90', '1,154.10']\n",
      "[' 미국', '2019.11.15', '1,167.00', '1,187.42', '1,146.58', '1,178.40', '1,155.60']\n",
      "[' 미국', '2019.11.14', '1,170.50', '1,190.98', '1,150.02', '1,181.90', '1,159.10']\n",
      "[' 미국', '2019.11.13', '1,169.50', '1,189.96', '1,149.04', '1,180.90', '1,158.10']\n",
      "[' 미국', '2019.11.12', '1,163.50', '1,183.86', '1,143.14', '1,174.90', '1,152.10']\n",
      "[' 미국', '2019.11.11', '1,165.50', '1,185.89', '1,145.11', '1,176.90', '1,154.10']\n",
      "[' 미국', '2019.11.08', '1,157.50', '1,177.75', '1,137.25', '1,168.80', '1,146.20']\n",
      "[' 미국', '2019.11.07', '1,156.00', '1,176.23', '1,135.77', '1,167.30', '1,144.70']\n",
      "[' 미국', '2019.11.06', '1,158.50', '1,178.77', '1,138.23', '1,169.80', '1,147.20']\n",
      "[' 미국', '2019.11.05', '1,156.00', '1,176.23', '1,135.77', '1,167.30', '1,144.70']\n",
      "[' 미국', '2019.11.04', '1,160.50', '1,180.80', '1,140.20', '1,171.80', '1,149.20']\n",
      "[' 미국', '2019.11.01', '1,167.00', '1,187.42', '1,146.58', '1,178.40', '1,155.60']\n",
      "[' 미국', '2019.10.31', '1,168.50', '1,188.94', '1,148.06', '1,179.90', '1,157.10']\n",
      "[' 미국', '2019.10.30', '1,166.50', '1,186.91', '1,146.09', '1,177.90', '1,155.10']\n",
      "[' 미국', '2019.10.29', '1,168.00', '1,188.44', '1,147.56', '1,179.40', '1,156.60']\n",
      "[' 미국', '2019.10.28', '1,170.50', '1,190.98', '1,150.02', '1,181.90', '1,159.10']\n"
     ]
    }
   ],
   "source": [
    "if __name__ == \"__main__\":\n",
    "#     req = requests.get(URL + keys[0]) #0으로 바꿀것\n",
    "#     soup = BeautifulSoup(req.text, \"html.parser\")\n",
    "\n",
    "    country_name = country()\n",
    "    usd_whole_list = []\n",
    "    for i in range(1,3):\n",
    "        usd_url = URL + keys[0] + '&page=' + str(i)\n",
    "        req = requests.get(usd_url)\n",
    "        soup = BeautifulSoup(req.text, \"html.parser\")\n",
    "        sleep(1)\n",
    "        usd_whole_list += usd(soup, country_name[0])\n",
    "#         usd_whole_list += usd(soup, keys[0]) #USDKRW로 출력\n",
    "\n",
    "    for item in usd_whole_list:\n",
    "        print(item)\n",
    "\n",
    "    toCSV(usd_whole_list)\n",
    "    \n",
    "    \n",
    "    \n",
    "    \n",
    "    \n",
    "    \n",
    "    \n",
    "    "
   ]
  },
  {
   "cell_type": "code",
   "execution_count": 77,
   "metadata": {},
   "outputs": [
    {
     "ename": "NameError",
     "evalue": "name 'country_name_list' is not defined",
     "output_type": "error",
     "traceback": [
      "\u001b[1;31m---------------------------------------------------------------------------\u001b[0m",
      "\u001b[1;31mNameError\u001b[0m                                 Traceback (most recent call last)",
      "\u001b[1;32m<ipython-input-77-dc279d2f3ae7>\u001b[0m in \u001b[0;36m<module>\u001b[1;34m\u001b[0m\n\u001b[1;32m----> 1\u001b[1;33m \u001b[0mdata\u001b[0m\u001b[1;33m=\u001b[0m\u001b[0mpd\u001b[0m\u001b[1;33m.\u001b[0m\u001b[0mDataFrame\u001b[0m\u001b[1;33m(\u001b[0m\u001b[1;33m{\u001b[0m\u001b[1;34m'country'\u001b[0m\u001b[1;33m:\u001b[0m\u001b[0mcountry_name_list\u001b[0m\u001b[1;33m[\u001b[0m\u001b[1;36m0\u001b[0m\u001b[1;33m]\u001b[0m\u001b[1;33m,\u001b[0m \u001b[1;34m'date'\u001b[0m\u001b[1;33m:\u001b[0m\u001b[0musd\u001b[0m\u001b[1;33m.\u001b[0m\u001b[0musd_date_list\u001b[0m\u001b[1;33m.\u001b[0m\u001b[0mstrftime\u001b[0m\u001b[1;33m(\u001b[0m\u001b[1;34m'%Y-%m-%d'\u001b[0m\u001b[1;33m)\u001b[0m\u001b[1;33m,\u001b[0m \u001b[1;34m'exchange'\u001b[0m\u001b[1;33m:\u001b[0m\u001b[0musd\u001b[0m\u001b[1;33m.\u001b[0m\u001b[0musd_exchange_list\u001b[0m\u001b[1;33m}\u001b[0m\u001b[1;33m)\u001b[0m\u001b[1;33m\u001b[0m\u001b[1;33m\u001b[0m\u001b[0m\n\u001b[0m\u001b[0;32m      2\u001b[0m \u001b[0mdata\u001b[0m\u001b[1;33m\u001b[0m\u001b[1;33m\u001b[0m\u001b[0m\n\u001b[0;32m      3\u001b[0m \u001b[0mdata\u001b[0m\u001b[1;33m.\u001b[0m\u001b[0mto_csv\u001b[0m\u001b[1;33m(\u001b[0m\u001b[1;34m\"bigdata.csv\"\u001b[0m\u001b[1;33m)\u001b[0m\u001b[1;33m\u001b[0m\u001b[1;33m\u001b[0m\u001b[0m\n",
      "\u001b[1;31mNameError\u001b[0m: name 'country_name_list' is not defined"
     ]
    }
   ],
   "source": [
    "data=pd.DataFrame({'country':country_name_list[0], 'date':usd.usd_date_list.strftime('%Y-%m-%d'), 'exchange':usd.usd_exchange_list})\n",
    "data\n",
    "data.to_csv(\"bigdata.csv\")"
   ]
  },
  {
   "cell_type": "code",
   "execution_count": null,
   "metadata": {},
   "outputs": [],
   "source": [
    "#날짜 / 환율 나오는 코드\n",
    "    url = URL + keys[0]\n",
    "    for i in range(1, 5):\n",
    "        usd_url = url + '&page=' + str(i)\n",
    "        res = requests.get(usd_url)\n",
    "        soup = BeautifulSoup(res.text, \"html.parser\")\n",
    "        sleep(1)\n",
    "        \n",
    "        usd_dates = soup.select('body > div > table > tbody > tr > td.date')\n",
    "        for usd_date in usd_dates:\n",
    "            print(usd_date.text)\n",
    "        usd_exchanges = soup.select('body > div > table > tbody > tr > td:nth-child(2)')\n",
    "        for usd_exchange in usd_exchanges:\n",
    "            print(usd_exchange.text)"
   ]
  },
  {
   "cell_type": "code",
   "execution_count": 73,
   "metadata": {},
   "outputs": [],
   "source": []
  },
  {
   "cell_type": "code",
   "execution_count": null,
   "metadata": {},
   "outputs": [],
   "source": []
  }
 ],
 "metadata": {
  "kernelspec": {
   "display_name": "Python 3",
   "language": "python",
   "name": "python3"
  },
  "language_info": {
   "codemirror_mode": {
    "name": "ipython",
    "version": 3
   },
   "file_extension": ".py",
   "mimetype": "text/x-python",
   "name": "python",
   "nbconvert_exporter": "python",
   "pygments_lexer": "ipython3",
   "version": "3.7.4"
  }
 },
 "nbformat": 4,
 "nbformat_minor": 2
}
