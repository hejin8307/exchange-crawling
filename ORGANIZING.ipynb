{
 "cells": [
  {
   "cell_type": "code",
   "execution_count": 11,
   "metadata": {},
   "outputs": [],
   "source": [
    "import csv"
   ]
  },
  {
   "cell_type": "code",
   "execution_count": 29,
   "metadata": {},
   "outputs": [],
   "source": [
    "with open ('exchange2019_11_24_1.csv', 'r', encoding='UTF-8') as file:\n",
    "    reader = csv.reader(file)\n",
    "    lines = []\n",
    "    for line in reader:\n",
    "        if line[3] == 'buying cash':\n",
    "            line[3] = 'buying_cash'\n",
    "        if line[4] == 'selling cash':\n",
    "            line[4] = 'selling_cash'\n",
    "        if line[5] == 'sending money':\n",
    "            line[5] = 'sending_money'\n",
    "        if line[6] == 'getting money':\n",
    "            line[6] = 'getting_money'\n",
    "        if line[7] == 'buying TC':\n",
    "            line[7] = 'buying_TC'\n",
    "        if line[8] == 'selling check':\n",
    "            line[8] = 'selling_check'\n",
    "        lines.append(line)\n",
    "\n",
    "with open('test.csv', 'w', newline='', encoding='UTF-8') as f:\n",
    "    writer = csv.writer(f)\n",
    "    writer.writerows(lines)\n",
    "    \n",
    "    \n",
    "    f.close()\n",
    "\n"
   ]
  },
  {
   "cell_type": "code",
   "execution_count": null,
   "metadata": {},
   "outputs": [],
   "source": []
  }
 ],
 "metadata": {
  "kernelspec": {
   "display_name": "Python 3",
   "language": "python",
   "name": "python3"
  },
  "language_info": {
   "codemirror_mode": {
    "name": "ipython",
    "version": 3
   },
   "file_extension": ".py",
   "mimetype": "text/x-python",
   "name": "python",
   "nbconvert_exporter": "python",
   "pygments_lexer": "ipython3",
   "version": "3.7.4"
  }
 },
 "nbformat": 4,
 "nbformat_minor": 2
}
