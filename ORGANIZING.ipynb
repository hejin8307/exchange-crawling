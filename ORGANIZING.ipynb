{
 "cells": [
  {
   "cell_type": "code",
   "execution_count": 11,
   "metadata": {},
   "outputs": [],
   "source": [
    "import pandas as pd\n",
    "import csv"
   ]
  },
  {
   "cell_type": "code",
   "execution_count": 15,
   "metadata": {},
   "outputs": [],
   "source": [
    "with open ('exchange2019_11_24_1.csv', 'r', encoding='UTF-8') as file:\n",
    "    reader = csv.reader(file)\n",
    "    lines = []\n",
    "    for line in reader:\n",
    "        if line[3] == 'buying cash':\n",
    "            line[3] = 'buying cash'\n",
    "        if line[4] == 'selling cash':\n",
    "            line[4] == 'selling_cash'\n",
    "        if line[5] == 'sending money':\n",
    "            line[5] = 'sending_money'\n",
    "        if line[6] == 'getting money':\n",
    "            line[6] = 'getting_money'\n",
    "        if line[7] == 'buying TC':\n",
    "            line[7] = 'buying_TC'\n",
    "        if line[8] == 'selling check':\n",
    "            line[8] = 'selling_check'\n",
    "        if \n",
    "        lines.append(line)\n",
    "\n",
    "with open('example.csv', 'w', newline='', encoding='UTF-8') as f:\n",
    "    writer = csv.writer(f)\n",
    "    writer.writerows(lines)\n",
    "    \n",
    "    f.close()\n",
    "\n",
    "\n",
    "# df.rename(columns = {\"buying cash\" : \"buying_cash\"}, {\"selling cash\", \"selling_cash\"}, {\"sending money\" : \"sending_money\"}, {\"getting money\" : \"getting_money\"}, {\"buying TC\" : \"buying_TC\"}, {\"selling check\" : \"selling_check\"}, inplace = True)\n",
    "\n",
    "# print(df)"
   ]
  },
  {
   "cell_type": "code",
   "execution_count": null,
   "metadata": {},
   "outputs": [],
   "source": [
    "data=pd.DataFrame({'date':datetime.today().strftime('%Y-%m-%d'),'title':word_title,'view':word_view,'category':word_category,'content':word_content})\n",
    "data"
   ]
  },
  {
   "cell_type": "code",
   "execution_count": null,
   "metadata": {},
   "outputs": [],
   "source": [
    "country,date,exchange,buying cash,selling cash,sending money,getting money,buying TC,selling check"
   ]
  }
 ],
 "metadata": {
  "kernelspec": {
   "display_name": "Python 3",
   "language": "python",
   "name": "python3"
  },
  "language_info": {
   "codemirror_mode": {
    "name": "ipython",
    "version": 3
   },
   "file_extension": ".py",
   "mimetype": "text/x-python",
   "name": "python",
   "nbconvert_exporter": "python",
   "pygments_lexer": "ipython3",
   "version": "3.7.4"
  }
 },
 "nbformat": 4,
 "nbformat_minor": 2
}
