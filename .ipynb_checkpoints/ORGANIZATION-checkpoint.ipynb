{
 "cells": [
  {
   "cell_type": "code",
   "execution_count": 1,
   "metadata": {},
   "outputs": [],
   "source": [
    "import csv\n",
    "import datetime\n",
    "import re\n",
    "\n",
    "dt = datetime.datetime.now()\n",
    "with open ('exchange' +dt.strftime('%Y_%m_%d')+ '.csv', 'r', encoding='UTF8') as file:\n",
    "    reader = csv.reader(file)\n",
    "    lines = []\n",
    "    for line in reader:\n",
    "#         if line[3] == 'buying cash':\n",
    "#             line[3] = 'buying_cash'\n",
    "#         if line[4] == 'selling cash':\n",
    "#             line[4] = 'selling_cash'\n",
    "#         if line[5] == 'sending money':\n",
    "#             line[5] = 'sending_money'\n",
    "#         if line[6] == 'getting money':\n",
    "#             line[6] = 'getting_money'\n",
    "#         if line[7] == 'buying TC':\n",
    "#             line[7] = 'buying_TC'\n",
    "#         if line[8] == 'selling check':\n",
    "#             line[8] = 'selling_check'\n",
    "\n",
    "        if line[0] == '미국':\n",
    "            line[0] = 'USA'\n",
    "        if line[0] == '일본':\n",
    "            line[0] = 'JAPAN'\n",
    "        if line[0] == '유럽연합':\n",
    "            line[0] = 'EUROPE'\n",
    "        if line[0] == '중국':\n",
    "            line[0] = 'CHINA'\n",
    "        if line[0] == '캐나다':\n",
    "            line[0] = 'CANADA'\n",
    "        if line[0] == '호주':\n",
    "            line[0] = 'AUSTRALIA'\n",
    "        \n",
    "        if line[4] == 'N/A':\n",
    "            line[4] = 0\n",
    "        if line[7] == 'N/A':\n",
    "            line[7] = 0\n",
    "        if line[8] == 'N/A':\n",
    "            line[8] = 0\n",
    "        lines.append(line)\n",
    "\n",
    "\n",
    "with open('exchange' +dt.strftime('%Y_%m_%d')+ '.csv', 'w', newline='', encoding='UTF-8') as file:\n",
    "    writer = csv.writer(file)\n",
    "    writer.writerows(lines)\n",
    "\n",
    "    file.close()\n",
    "\n"
   ]
  },
  {
   "cell_type": "code",
   "execution_count": null,
   "metadata": {},
   "outputs": [],
   "source": []
  }
 ],
 "metadata": {
  "kernelspec": {
   "display_name": "Python 3",
   "language": "python",
   "name": "python3"
  },
  "language_info": {
   "codemirror_mode": {
    "name": "ipython",
    "version": 3
   },
   "file_extension": ".py",
   "mimetype": "text/x-python",
   "name": "python",
   "nbconvert_exporter": "python",
   "pygments_lexer": "ipython3",
   "version": "3.7.4"
  }
 },
 "nbformat": 4,
 "nbformat_minor": 2
}
