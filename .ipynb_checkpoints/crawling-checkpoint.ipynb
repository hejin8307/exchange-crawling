{
 "cells": [
  {
   "cell_type": "code",
   "execution_count": 6,
   "metadata": {},
   "outputs": [],
   "source": [
    "from bs4 import BeautifulSoup\n",
    "from selenium import webdriver\n",
    "from time import sleep\n",
    "import urllib.request as req"
   ]
  },
  {
   "cell_type": "code",
   "execution_count": 7,
   "metadata": {},
   "outputs": [],
   "source": [
    "driver = webdriver.Chrome('C:/chromedriver.exe') \n",
    "sleep(3)"
   ]
  },
  {
   "cell_type": "code",
   "execution_count": 8,
   "metadata": {},
   "outputs": [],
   "source": [
    "url = \"https://finance.naver.com/marketindex/\"\n",
    "driver.get(url)\n",
    "html = driver.page_source\n",
    "soup = BeautifulSoup(html, 'html.parser')"
   ]
  },
  {
   "cell_type": "code",
   "execution_count": 14,
   "metadata": {},
   "outputs": [
    {
     "name": "stdout",
     "output_type": "stream",
     "text": [
      "미국 USD\n"
     ]
    }
   ],
   "source": [
    "usd_n = soup.select_one(\"#exchangeList > li.on > a.head.usd > h3\")\n",
    "print(usd_n.text)"
   ]
  },
  {
   "cell_type": "code",
   "execution_count": 9,
   "metadata": {
    "scrolled": true
   },
   "outputs": [],
   "source": [
    "driver.find_element_by_xpath('//*[@id=\"exchangeList\"]/li[1]').click()"
   ]
  },
  {
   "cell_type": "code",
   "execution_count": 10,
   "metadata": {},
   "outputs": [],
   "source": [
    "usd_d = driver.switch_to.frame('exchangeDailyQuote') #미국 일별시세로 이동"
   ]
  },
  {
   "cell_type": "code",
   "execution_count": 8,
   "metadata": {},
   "outputs": [
    {
     "ename": "SyntaxError",
     "evalue": "invalid syntax (<ipython-input-8-f421ccf0a86c>, line 2)",
     "output_type": "error",
     "traceback": [
      "\u001b[1;36m  File \u001b[1;32m\"<ipython-input-8-f421ccf0a86c>\"\u001b[1;36m, line \u001b[1;32m2\u001b[0m\n\u001b[1;33m    num_page =\u001b[0m\n\u001b[1;37m               ^\u001b[0m\n\u001b[1;31mSyntaxError\u001b[0m\u001b[1;31m:\u001b[0m invalid syntax\n"
     ]
    }
   ],
   "source": [
    "while 1:\n",
    "    num_page = \n",
    "for link in driver.find_elements_by_tag('a'):\n",
    "    print(link.get('href'))"
   ]
  },
  {
   "cell_type": "code",
   "execution_count": 9,
   "metadata": {
    "scrolled": true
   },
   "outputs": [
    {
     "name": "stdout",
     "output_type": "stream",
     "text": [
      "총 11 개의 페이지가 확인 됬습니다.\n"
     ]
    }
   ],
   "source": [
    "maximum = 0\n",
    "page = 1\n",
    "while 1:\n",
    "    page_list = driver.find_elements_by_css_selector('body > div.section_exchange > div.paging > a:nth-child(' + str(page) + ')')\n",
    "    if not page_list:\n",
    "        maximum = page - 1\n",
    "        break\n",
    "    page = page + 1\n",
    "print(\"총 \" + str(maximum) + \" 개의 페이지가 확인 됬습니다.\")"
   ]
  },
  {
   "cell_type": "code",
   "execution_count": 18,
   "metadata": {},
   "outputs": [
    {
     "name": "stdout",
     "output_type": "stream",
     "text": [
      "[]\n",
      "[]\n"
     ]
    }
   ],
   "source": [
    "for i in range(1,3): #388로 바꿔줄 것\n",
    "    driver.find_element_by_xpath('/html/body/div/div/a['+str(i)+']').click()\n",
    "    driver.implicitly_wait(10)\n",
    "    usd_date = driver.find_elements_by_tag_name('body > div > table > tbody > tr > td.dat')\n",
    "    print(usd_date)\n",
    "    for usd_dates in usd_date:\n",
    "        print(usd_dates.text) #->이 코드가 맞는 코드 / 안 돌아감"
   ]
  },
  {
   "cell_type": "code",
   "execution_count": 16,
   "metadata": {},
   "outputs": [
    {
     "name": "stdout",
     "output_type": "stream",
     "text": [
      "[<selenium.webdriver.remote.webelement.WebElement (session=\"45a87419eb35359d1ce0b81302e614d9\", element=\"00e6f199-594a-484a-8768-7480af0c80f8\")>, <selenium.webdriver.remote.webelement.WebElement (session=\"45a87419eb35359d1ce0b81302e614d9\", element=\"de261c0e-0ca6-4ea0-a8c8-fa38b615f1b5\")>, <selenium.webdriver.remote.webelement.WebElement (session=\"45a87419eb35359d1ce0b81302e614d9\", element=\"91eac861-90a8-4101-bf85-4c996fe76057\")>, <selenium.webdriver.remote.webelement.WebElement (session=\"45a87419eb35359d1ce0b81302e614d9\", element=\"efb68eaf-ec89-4f2a-93a4-4c0536fa746e\")>, <selenium.webdriver.remote.webelement.WebElement (session=\"45a87419eb35359d1ce0b81302e614d9\", element=\"3ed40f47-a878-4a77-8782-84c8e5037af7\")>, <selenium.webdriver.remote.webelement.WebElement (session=\"45a87419eb35359d1ce0b81302e614d9\", element=\"72da68c6-59b9-49d1-8b13-7357a5bb8d8e\")>, <selenium.webdriver.remote.webelement.WebElement (session=\"45a87419eb35359d1ce0b81302e614d9\", element=\"b311f6e7-8bbf-4ab6-a180-9ae69dbba384\")>, <selenium.webdriver.remote.webelement.WebElement (session=\"45a87419eb35359d1ce0b81302e614d9\", element=\"6fca9f14-c455-40da-8ce0-b7b6cb19aa09\")>, <selenium.webdriver.remote.webelement.WebElement (session=\"45a87419eb35359d1ce0b81302e614d9\", element=\"d7f94627-ba71-466a-bd1e-ae8fd5b82005\")>, <selenium.webdriver.remote.webelement.WebElement (session=\"45a87419eb35359d1ce0b81302e614d9\", element=\"ce416e2c-ee7f-4ee9-b84a-9ddcc5038151\")>]\n",
      "2019.11.04\n",
      "2019.11.01\n",
      "2019.10.31\n",
      "2019.10.30\n",
      "2019.10.29\n",
      "2019.10.28\n",
      "2019.10.25\n",
      "2019.10.24\n",
      "2019.10.23\n",
      "2019.10.22\n"
     ]
    }
   ],
   "source": [
    "usd_date = driver.find_elements_by_tag_name('body > div > table > tbody > tr > td.date')\n",
    "print(usd_date)\n",
    "for usd_dates in usd_date:\n",
    "    print(usd_dates.text) #이런식으로 나온다는 예시코드"
   ]
  },
  {
   "cell_type": "code",
   "execution_count": 19,
   "metadata": {},
   "outputs": [
    {
     "name": "stdout",
     "output_type": "stream",
     "text": [
      "2019.11.18\n",
      "2019.11.15\n",
      "2019.11.14\n",
      "2019.11.13\n",
      "2019.11.12\n",
      "2019.11.11\n",
      "2019.11.08\n",
      "2019.11.07\n",
      "2019.11.06\n",
      "2019.11.05\n",
      "2019.11.04\n",
      "2019.11.01\n",
      "2019.10.31\n",
      "2019.10.30\n",
      "2019.10.29\n",
      "2019.10.28\n",
      "2019.10.25\n",
      "2019.10.24\n",
      "2019.10.23\n",
      "2019.10.22\n",
      "2019.10.21\n",
      "2019.10.18\n",
      "2019.10.17\n",
      "2019.10.16\n",
      "2019.10.15\n",
      "2019.10.14\n",
      "2019.10.11\n",
      "2019.10.10\n",
      "2019.10.08\n",
      "2019.10.07\n",
      "2019.10.04\n",
      "2019.10.02\n",
      "2019.10.01\n",
      "2019.09.30\n",
      "2019.09.27\n",
      "2019.09.26\n",
      "2019.09.25\n",
      "2019.09.24\n",
      "2019.09.23\n",
      "2019.09.20\n"
     ]
    }
   ],
   "source": [
    "usd_url = 'https://finance.naver.com/marketindex/exchangeDailyQuote.nhn?marketindexCd=FX_USDKRW&page={}'\n",
    "for i in range(1, 5): #388로 바꿀 것\n",
    "    usd = usd_url.format(i)\n",
    "    driver.get(usd)\n",
    "    driver.implicitly_wait(2)\n",
    "    usd_date = driver.find_elements_by_tag_name('body > div > table > tbody > tr > td.date')\n",
    "    #print(usd_date)\n",
    "    for usd_dates in usd_date:\n",
    "        print(usd_dates.text) #-> 돌아가는 코드긴 하지만 여기서 원하는 코드는 아님"
   ]
  },
  {
   "cell_type": "code",
   "execution_count": 36,
   "metadata": {},
   "outputs": [],
   "source": [
    "driver.switch_to.default_content() #미국 상세페이지로 이동"
   ]
  },
  {
   "cell_type": "code",
   "execution_count": null,
   "metadata": {},
   "outputs": [],
   "source": [
    "URL = finance.naver.com/marketindex/exchangeDailyQuote.nhn?marketindexCd=FX_\n",
    "keys = [USDKRW, JPYJRW]\n",
    "\n",
    "for key in keys: \n",
    "    tempUrl = URL + key\n",
    "    i = 0\n",
    "    while(true):\n",
    "        #\n",
    "        tempUrl + \"&page=\" + str(i)\n",
    "        #list\n",
    "        #list.length == 0\n",
    "        break;\n",
    "        "
   ]
  }
 ],
 "metadata": {
  "kernelspec": {
   "display_name": "Python 3",
   "language": "python",
   "name": "python3"
  },
  "language_info": {
   "codemirror_mode": {
    "name": "ipython",
    "version": 3
   },
   "file_extension": ".py",
   "mimetype": "text/x-python",
   "name": "python",
   "nbconvert_exporter": "python",
   "pygments_lexer": "ipython3",
   "version": "3.7.4"
  }
 },
 "nbformat": 4,
 "nbformat_minor": 2
}
